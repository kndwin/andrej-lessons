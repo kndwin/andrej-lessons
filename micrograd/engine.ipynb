{
 "cells": [
  {
   "cell_type": "code",
   "execution_count": 3,
   "id": "6b40575a-7d30-4c60-a95e-64a90d1fd817",
   "metadata": {},
   "outputs": [],
   "source": [
    "# Understanding derivatives"
   ]
  },
  {
   "cell_type": "code",
   "execution_count": null,
   "id": "3e0e9b5e-3643-4c6e-abbb-6b76597e9074",
   "metadata": {},
   "outputs": [],
   "source": [
    "# Class Value with operation overides"
   ]
  },
  {
   "cell_type": "code",
   "execution_count": null,
   "id": "70176da1-7616-451f-97a5-704ff36a25a9",
   "metadata": {},
   "outputs": [],
   "source": []
  }
 ],
 "metadata": {
  "kernelspec": {
   "display_name": "Python 3 (ipykernel)",
   "language": "python",
   "name": "python3"
  },
  "language_info": {
   "codemirror_mode": {
    "name": "ipython",
    "version": 3
   },
   "file_extension": ".py",
   "mimetype": "text/x-python",
   "name": "python",
   "nbconvert_exporter": "python",
   "pygments_lexer": "ipython3",
   "version": "3.12.3"
  }
 },
 "nbformat": 4,
 "nbformat_minor": 5
}

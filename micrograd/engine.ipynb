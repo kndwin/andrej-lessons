{
 "cells": [
  {
   "cell_type": "code",
   "execution_count": 1,
   "id": "6b40575a-7d30-4c60-a95e-64a90d1fd817",
   "metadata": {},
   "outputs": [
    {
     "data": {
      "text/plain": [
       "4.0"
      ]
     },
     "execution_count": 1,
     "metadata": {},
     "output_type": "execute_result"
    }
   ],
   "source": [
    "# Understanding derivatives\n",
    "a = 2.0\n",
    "b = -3.0\n",
    "c = 10.0\n",
    "\n",
    "h = 0.001\n",
    "d1 = a*b + c\n",
    "a += h\n",
    "d2 = a*b + c\n",
    "sl\n",
    "a*b + c"
   ]
  },
  {
   "cell_type": "code",
   "execution_count": 6,
   "id": "3e0e9b5e-3643-4c6e-abbb-6b76597e9074",
   "metadata": {},
   "outputs": [
    {
     "data": {
      "text/plain": [
       "Value(4.0)"
      ]
     },
     "execution_count": 6,
     "metadata": {},
     "output_type": "execute_result"
    }
   ],
   "source": [
    "# Class Value with operator overloading\n",
    "class Value:\n",
    "    def __init__(self, value):\n",
    "        self.value = value\n",
    "    def __repr__(self):\n",
    "        return f\"Value({self.value})\"\n",
    "    def __add__(self, other):\n",
    "        return Value(self.value + other.value)\n",
    "    def __mul__(self, other):\n",
    "        return Value(self.value * other.value)\n",
    "a = Value(2.0)\n",
    "b = Value(-3.0)\n",
    "c = Value(10.0)\n",
    "a*b + c"
   ]
  },
  {
   "cell_type": "code",
   "execution_count": null,
   "id": "b785037c-79a8-4b91-beab-1802acf2ddcf",
   "metadata": {},
   "outputs": [],
   "source": []
  }
 ],
 "metadata": {
  "kernelspec": {
   "display_name": "Python 3 (ipykernel)",
   "language": "python",
   "name": "python3"
  },
  "language_info": {
   "codemirror_mode": {
    "name": "ipython",
    "version": 3
   },
   "file_extension": ".py",
   "mimetype": "text/x-python",
   "name": "python",
   "nbconvert_exporter": "python",
   "pygments_lexer": "ipython3",
   "version": "3.12.3"
  }
 },
 "nbformat": 4,
 "nbformat_minor": 5
}

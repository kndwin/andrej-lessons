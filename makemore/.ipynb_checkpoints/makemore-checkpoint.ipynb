{
 "cells": [
  {
   "cell_type": "code",
   "execution_count": 3,
   "id": "811735cb-2762-413e-af26-80048a82fa46",
   "metadata": {},
   "outputs": [],
   "source": [
    "# Load file\n",
    "names = open(\"names.txt\").read().split(\"\\n\")"
   ]
  },
  {
   "cell_type": "code",
   "execution_count": 4,
   "id": "9d246866-cb94-4d3d-8576-3462057140ac",
   "metadata": {},
   "outputs": [
    {
     "name": "stdout",
     "output_type": "stream",
     "text": [
      "[('n.', 6763), ('a.', 6640), ('an', 5438), ('.a', 4410), ('e.', 3983), ('ar', 3264), ('el', 3248), ('ri', 3033), ('na', 2977), ('.k', 2963)]\n"
     ]
    }
   ],
   "source": [
    "# Extract bigrams and loop through them\n",
    "def getCharPairs(name):\n",
    "    pairs = []\n",
    "    for i in range(len(name)-1):\n",
    "        pairs.append([name[i], name[i+1]])\n",
    "    return pairs\n",
    "\n",
    "pairCount = dict()\n",
    "for n in names:\n",
    "    charPairs = getCharPairs(n)\n",
    "    charPairs.insert(0, [\".\", n[0]])\n",
    "    charPairs.append([n[len(n)-1], \".\"])\n",
    "\n",
    "    for pairs in charPairs:\n",
    "        p = \"\".join(pairs)\n",
    "        pairCount[p] =  pairCount.get(p, 0) + 1\n",
    "\n",
    "print(sorted(pairCount.items(), key=lambda kv:-kv[1])[:10])"
   ]
  },
  {
   "cell_type": "code",
   "execution_count": 5,
   "id": "dd04b37a-37dc-49b3-80cf-454b08e4f664",
   "metadata": {},
   "outputs": [],
   "source": [
    "# Construct probablity matrix of all character pairs\n",
    "import torch\n",
    "import numpy\n",
    "\n",
    "N = torch.zeros(28, 28, dtype=torch.int)\n",
    "alphabet = list('.abcdefghijklmnopqrstuvwxyz')\n",
    "s2i = {c: i for i, c in enumerate(alphabet)}\n",
    "i2s = {i: c for i, c in enumerate(alphabet)}\n",
    "\n",
    "for n in names:\n",
    "    charPairs = getCharPairs(n)\n",
    "    charPairs.insert(0, [\".\", n[0]])\n",
    "    charPairs.append([n[len(n)-1], \".\"])\n",
    "\n",
    "    for pairs in charPairs:\n",
    "        row = s2i[pairs[0]]\n",
    "        col = s2i[pairs[1]]\n",
    "        N[row, col] += 1"
   ]
  },
  {
   "cell_type": "code",
   "execution_count": 6,
   "id": "072e793e-e0fa-43dc-aea5-cc3a55be8522",
   "metadata": {},
   "outputs": [
    {
     "name": "stdout",
     "output_type": "stream",
     "text": [
      ".dagio.\n",
      ".fann.\n",
      ".mecimizhamaiky.\n",
      ".katonickaglyn.\n",
      ".j.\n",
      ".neynn.\n",
      ".kene.\n",
      ".adaheman.\n",
      ".brlonn.\n",
      ".gineyavas.\n"
     ]
    }
   ],
   "source": [
    "# Understand broadcasting rules\n",
    "P = N.float()\n",
    "P /= P.sum(1, keepdim=True)\n",
    "\n",
    "# Model inference with multinomial picking(?)\n",
    "for i in range(10):\n",
    "    dream_word = [\".\"]\n",
    "    while True:\n",
    "        ix = s2i[dream_word[-1]]\n",
    "        p = torch.multinomial(P[ix], num_samples=1)\n",
    "        dream_word.append(i2s[p.item()])\n",
    "        if (i2s[p.item()] == '.'):\n",
    "            break\n",
    "    print(\"\".join(dream_word))"
   ]
  },
  {
   "cell_type": "code",
   "execution_count": 9,
   "id": "5deabffe-a741-4fe6-acfb-c2736cad91c1",
   "metadata": {},
   "outputs": [
    {
     "name": "stdout",
     "output_type": "stream",
     "text": [
      "-559891.7500\n",
      "-2.4541\n"
     ]
    }
   ],
   "source": [
    "# Calculate negative log likelihood\n",
    "total_longprob = 0\n",
    "count = 0\n",
    "for n in names:\n",
    "    charPairs = getCharPairs(n)\n",
    "    charPairs.insert(0, [\".\", n[0]])\n",
    "    charPairs.append([n[len(n)-1], \".\"])\n",
    "    for p in charPairs:\n",
    "        ix1, ix2 = s2i[p[0]], s2i[p[1]]\n",
    "        cp = \"\".join(p)\n",
    "        prob = P[ix1][ix2]\n",
    "        logprob = torch.log(prob)\n",
    "        total_longprob += logprob\n",
    "        count += 1\n",
    "        \n",
    "        # print(f'{cp}: {prob:.4f} - {logprob:.4f}')\n",
    "\n",
    "print(f'{total_longprob.item():.4f}')\n",
    "print(f'{total_longprob.item()/count:.4f}')"
   ]
  },
  {
   "cell_type": "code",
   "execution_count": null,
   "id": "ee2a86bb-2ed8-4478-9e05-2244adf42c21",
   "metadata": {},
   "outputs": [],
   "source": []
  }
 ],
 "metadata": {
  "kernelspec": {
   "display_name": "Python 3 (ipykernel)",
   "language": "python",
   "name": "python3"
  },
  "language_info": {
   "codemirror_mode": {
    "name": "ipython",
    "version": 3
   },
   "file_extension": ".py",
   "mimetype": "text/x-python",
   "name": "python",
   "nbconvert_exporter": "python",
   "pygments_lexer": "ipython3",
   "version": "3.12.3"
  }
 },
 "nbformat": 4,
 "nbformat_minor": 5
}

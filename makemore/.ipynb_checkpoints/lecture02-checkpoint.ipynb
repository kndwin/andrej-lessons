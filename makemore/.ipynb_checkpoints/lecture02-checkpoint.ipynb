{
 "cells": [
  {
   "cell_type": "code",
   "execution_count": 2,
   "id": "67579d41-79f8-4d25-8a88-d7d9262d1497",
   "metadata": {
    "editable": true,
    "slideshow": {
     "slide_type": ""
    },
    "tags": []
   },
   "outputs": [],
   "source": [
    "import torch\n",
    "import torch.nn.functional as F\n",
    "import matplotlib.pyplot as plt\n",
    "%matplotlib inline"
   ]
  },
  {
   "cell_type": "code",
   "execution_count": 5,
   "id": "c5f1af3b-b5f3-455c-a874-905d94a3ad24",
   "metadata": {},
   "outputs": [
    {
     "data": {
      "text/plain": [
       "['emma', 'olivia', 'ava', 'isabella', 'sophia', 'charlotte', 'mia', 'amelia']"
      ]
     },
     "execution_count": 5,
     "metadata": {},
     "output_type": "execute_result"
    }
   ],
   "source": [
    "words = open('names.txt', 'r').read().splitlines()\n",
    "words[:8]"
   ]
  },
  {
   "cell_type": "code",
   "execution_count": 7,
   "id": "c952ec44-05d9-4a7a-ab93-1408bf7e3f67",
   "metadata": {},
   "outputs": [
    {
     "data": {
      "text/plain": [
       "32033"
      ]
     },
     "execution_count": 7,
     "metadata": {},
     "output_type": "execute_result"
    }
   ],
   "source": [
    "len(words)"
   ]
  },
  {
   "cell_type": "code",
   "execution_count": 10,
   "id": "4cc25897-ece6-4066-ab39-61690698d3cd",
   "metadata": {},
   "outputs": [],
   "source": [
    "alphabet = list('.abcdefghijklmnopqrstuvwxyz')\n",
    "s2i = {c: i for i, c in enumerate(alphabet)}\n",
    "i2s = {i: c for i, c in enumerate(alphabet)}"
   ]
  },
  {
   "cell_type": "code",
   "execution_count": 110,
   "id": "92ba9e50-6481-4c84-bccd-42bfde296dfa",
   "metadata": {},
   "outputs": [],
   "source": [
    "size, ctx, X, Y = 3, [0]*size, [], []\n",
    "for w in words:\n",
    "  for ch in w + \".\":\n",
    "    X.append(ctx)\n",
    "    Y.append(s2i[ch])\n",
    "    ctx = ctx[1:] + [s2i[ch]]\n",
    "X = torch.tensor(X)\n",
    "Y = torch.tensor(Y)"
   ]
  },
  {
   "cell_type": "code",
   "execution_count": 48,
   "id": "2b9306f9-5dab-4201-869d-8bc92600fcf4",
   "metadata": {},
   "outputs": [
    {
     "data": {
      "text/plain": [
       "torch.Size([32, 3])"
      ]
     },
     "execution_count": 48,
     "metadata": {},
     "output_type": "execute_result"
    }
   ],
   "source": [
    "X.shape"
   ]
  },
  {
   "cell_type": "code",
   "execution_count": 53,
   "id": "0c0e659f-1dc7-4d02-afb0-6c484fd1033d",
   "metadata": {},
   "outputs": [
    {
     "data": {
      "text/plain": [
       "torch.Size([27, 2])"
      ]
     },
     "execution_count": 53,
     "metadata": {},
     "output_type": "execute_result"
    }
   ],
   "source": [
    "C = torch.randn((27, 2))\n",
    "C.shape"
   ]
  },
  {
   "cell_type": "code",
   "execution_count": 59,
   "id": "b9590765-0a1a-4e1c-abec-761d6434af94",
   "metadata": {},
   "outputs": [
    {
     "data": {
      "text/plain": [
       "torch.Size([32, 3, 2])"
      ]
     },
     "execution_count": 59,
     "metadata": {},
     "output_type": "execute_result"
    }
   ],
   "source": [
    "emb = C[X]\n",
    "emb.shape"
   ]
  },
  {
   "cell_type": "code",
   "execution_count": 79,
   "id": "ffadf60d-8e75-432d-a5fe-40b98a3598c0",
   "metadata": {},
   "outputs": [],
   "source": [
    "W1 = torch.randn(6, 100)\n",
    "b1 = torch.randn(100)"
   ]
  },
  {
   "cell_type": "code",
   "execution_count": 80,
   "id": "04375dc3-78f4-427c-8cc1-05ea1fadcbb1",
   "metadata": {},
   "outputs": [],
   "source": [
    "h = torch.tanh(emb.view(-1,6) @ W1 + b1)"
   ]
  },
  {
   "cell_type": "code",
   "execution_count": 81,
   "id": "67070ee7-bffb-421b-aadd-da071346613e",
   "metadata": {},
   "outputs": [],
   "source": [
    "W2 = torch.randn(100, 27)\n",
    "b2 = torch.randn(27)"
   ]
  },
  {
   "cell_type": "code",
   "execution_count": 86,
   "id": "2f433861-2eae-433f-829a-e325c3cfdd4e",
   "metadata": {},
   "outputs": [],
   "source": [
    "logits = h @ W2 + b2"
   ]
  },
  {
   "cell_type": "code",
   "execution_count": 92,
   "id": "cf93e5d2-5375-4a7d-bb72-9a6d94356fd6",
   "metadata": {},
   "outputs": [],
   "source": [
    "counts = logits.exp()\n",
    "prob = counts / counts.sum(1, keepdims=True)"
   ]
  },
  {
   "cell_type": "code",
   "execution_count": 97,
   "id": "fdf6f21b-9ff0-4ee0-9810-cd7d6539bc58",
   "metadata": {},
   "outputs": [
    {
     "data": {
      "text/plain": [
       "tensor(14.3605)"
      ]
     },
     "execution_count": 97,
     "metadata": {},
     "output_type": "execute_result"
    }
   ],
   "source": [
    "loss = -prob[torch.arange(32), Y].log().mean()\n",
    "loss"
   ]
  },
  {
   "cell_type": "code",
   "execution_count": 177,
   "id": "4136c36e-e35e-49aa-ae40-80bb2e462aa2",
   "metadata": {},
   "outputs": [],
   "source": [
    "C = torch.randn(27,2)\n",
    "W1 = torch.randn(6,100)\n",
    "b1 = torch.randn(100)\n",
    "W2 = torch.randn(100,27)\n",
    "b2 = torch.randn(27)\n",
    "params = [C, W1, b1, W2, b2]\n",
    "for p in params:\n",
    "  p.requires_grad = True"
   ]
  },
  {
   "cell_type": "code",
   "execution_count": 199,
   "id": "67459c78-e3ec-4d9e-93ee-f699fb20ecc3",
   "metadata": {},
   "outputs": [
    {
     "name": "stdout",
     "output_type": "stream",
     "text": [
      "2.249605894088745\n"
     ]
    }
   ],
   "source": [
    "lre = torch.linspace(-3, 0, 1000)\n",
    "lrs = 10**lre\n",
    "lri, lossi = [], []\n",
    "for i in range(10000):\n",
    "  # mini batch\n",
    "  ix = torch.randint(0, X.shape[0], (32,))\n",
    "  emb = C[X[ix]]\n",
    "  h = torch.tanh(emb.view(-1,6) @ W1+b1)\n",
    "  logits = h @ W2 + b2\n",
    "  loss = F.cross_entropy(logits, Y[ix])\n",
    "  for p in params:\n",
    "    p.grad = None\n",
    "  \n",
    "  loss.backward()\n",
    "\n",
    "  # lr = lrs[i]\n",
    "  lr = 0.01\n",
    "  for p in params:\n",
    "    p.data += -lr * p.grad\n",
    "  lri.append(lr)\n",
    "  lossi.append(loss.item())\n",
    "  \n",
    "print(loss.item())"
   ]
  },
  {
   "cell_type": "code",
   "execution_count": 181,
   "id": "7ef80fff-d2dc-481c-ad37-5b81a335c0a0",
   "metadata": {},
   "outputs": [
    {
     "data": {
      "text/plain": [
       "[<matplotlib.lines.Line2D at 0x10e2c8d10>]"
      ]
     },
     "execution_count": 181,
     "metadata": {},
     "output_type": "execute_result"
    },
    {
     "data": {
      "image/png": "[encoded data removed]",
      "text/plain": [
       "<Figure size 640x480 with 1 Axes>"
      ]
     },
     "metadata": {},
     "output_type": "display_data"
    }
   ],
   "source": [
    "plt.plot(lre, lossi)"
   ]
  },
  {
   "cell_type": "code",
   "execution_count": 201,
   "id": "2c3d3f5b-9095-4fe3-80f0-8fffe63cfdef",
   "metadata": {},
   "outputs": [
    {
     "data": {
      "text/plain": [
       "tensor(2.3094, grad_fn=<NllLossBackward0>)"
      ]
     },
     "execution_count": 201,
     "metadata": {},
     "output_type": "execute_result"
    }
   ],
   "source": [
    "emb = C[X]\n",
    "h = torch.tanh(emb.view(-1,6) @ W1+b1)\n",
    "logits = h @ W2 + b2\n",
    "loss = F.cross_entropy(logits, Y)\n",
    "loss"
   ]
  },
  {
   "cell_type": "code",
   "execution_count": null,
   "id": "eacad345-436b-4ea2-b273-3e073b70174c",
   "metadata": {},
   "outputs": [],
   "source": [
    "# training split (80%)\n",
    "# validation split (10%)\n",
    "# testing split (10%)"
   ]
  }
 ],
 "metadata": {
  "kernelspec": {
   "display_name": "Python 3 (ipykernel)",
   "language": "python",
   "name": "python3"
  },
  "language_info": {
   "codemirror_mode": {
    "name": "ipython",
    "version": 3
   },
   "file_extension": ".py",
   "mimetype": "text/x-python",
   "name": "python",
   "nbconvert_exporter": "python",
   "pygments_lexer": "ipython3",
   "version": "3.12.4"
  }
 },
 "nbformat": 4,
 "nbformat_minor": 5
}
